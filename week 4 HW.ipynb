{
 "cells": [
  {
   "cell_type": "code",
   "execution_count": null,
   "id": "19124168",
   "metadata": {},
   "outputs": [],
   "source": [
    "\n",
    "\n",
    "\n",
    "x=0\n",
    "while x == 0:  #the loop will continue as long as x is equal to 0\n",
    "    num = int(input(\"Enter a number\")) # it will compute the interger into a number\n",
    "    product = num * 10  # this wil cause it to multiple the number by ten\n",
    "    if product < 100:    # if the product is less than 100, the program will print the product\n",
    "        print(product) \n",
    "    if product >= 100:  #If the product is more or equal to 100, it will print 1\n",
    "        x=1\n",
    "    "
   ]
  },
  {
   "cell_type": "code",
   "execution_count": null,
   "id": "5ed9c62c",
   "metadata": {},
   "outputs": [],
   "source": [
    "num = 0     #I assigned num as 0 so the algarithm will alwyas staret at 0 first\n",
    "while num < 1000: # as long as the number is less than 1,000\n",
    "    num += 10   # It will continously add ten to it until it gets to 1,000\n",
    "    print (num)"
   ]
  },
  {
   "cell_type": "markdown",
   "id": "6b6e8987",
   "metadata": {},
   "source": [
    "#  programming excersises #1 A bug collector collects bugs every day for five days. Write a program that keeps a running total of the number of bugs collected during the five days. The loop should ask for the number of bugs collected for each day, and when the loop is finished, the program should display the total number of bugs collected."
   ]
  },
  {
   "cell_type": "code",
   "execution_count": null,
   "id": "fe7ced38",
   "metadata": {},
   "outputs": [],
   "source": [
    "total = 0 # my accumulator will start at 0\n",
    "for day in range (1, 6): #for the days 1-6, it will store the numbers and add them \n",
    "    print(\"How many bugs did you collect on day\", day)\n",
    "    total += bugs #it will continue to add the bugs\n",
    "    print(\"the total number of bugs collected was\", total)\n",
    "    "
   ]
  },
  {
   "cell_type": "markdown",
   "id": "cf2a6c05",
   "metadata": {},
   "source": [
    "# Write a program that asks the user for the speed of a vehicle in miles per hour and the number of hours it has traveled. It should then use a loop to display the distance the vehicle has traveled for each hour of that time period. Here is an example of the desired output: "
   ]
  },
  {
   "cell_type": "code",
   "execution_count": null,
   "id": "d4a20300",
   "metadata": {},
   "outputs": [],
   "source": [
    "speed = int(input(\"Enter the speed of the vehicle in miles per hour\")) # i assigned speed to a input so the user can enter the speed of the vehice\n",
    "hours = int(input(\"Enter the number of hours the vehicle has been traveling for\")) # I did the same with hours so the user can enter the number of hours it has traveled\n",
    "for hours in range (1, hours + 1): #The user will be able to put how ever many hours they traveled\n",
    "    distance = speed * hours # I told the program how to calculate distance when it sees it again\n",
    "    print(\"the vehicle has traveled\" distance \"miles in\", hours, \"hours\") # it will give a final answer incorporating all of the code above"
   ]
  },
  {
   "cell_type": "markdown",
   "id": "b685f91b",
   "metadata": {},
   "source": [
    "# Write a program that uses nested loops to draw this pattern:                     "
   ]
  },
  {
   "cell_type": "code",
   "execution_count": null,
   "id": "f175da83",
   "metadata": {},
   "outputs": [],
   "source": []
  }
 ],
 "metadata": {
  "kernelspec": {
   "display_name": "Python 3 (ipykernel)",
   "language": "python",
   "name": "python3"
  },
  "language_info": {
   "codemirror_mode": {
    "name": "ipython",
    "version": 3
   },
   "file_extension": ".py",
   "mimetype": "text/x-python",
   "name": "python",
   "nbconvert_exporter": "python",
   "pygments_lexer": "ipython3",
   "version": "3.11.7"
  }
 },
 "nbformat": 4,
 "nbformat_minor": 5
}
